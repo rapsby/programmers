{
 "metadata": {
  "language_info": {
   "codemirror_mode": {
    "name": "ipython",
    "version": 3
   },
   "file_extension": ".py",
   "mimetype": "text/x-python",
   "name": "python",
   "nbconvert_exporter": "python",
   "pygments_lexer": "ipython3",
   "version": "3.6.2-final"
  },
  "orig_nbformat": 2,
  "kernelspec": {
   "name": "python3",
   "display_name": "Python 3"
  }
 },
 "nbformat": 4,
 "nbformat_minor": 2,
 "cells": [
  {
   "cell_type": "code",
   "execution_count": 1,
   "metadata": {},
   "outputs": [],
   "source": [
    "import numpy as np"
   ]
  },
  {
   "cell_type": "code",
   "execution_count": 2,
   "metadata": {},
   "outputs": [
    {
     "output_type": "stream",
     "name": "stdout",
     "text": [
      "[[ 3  1  1]\n [ 1 -2 -1]\n [ 1  1  1]]\n(3, 3)\n"
     ]
    }
   ],
   "source": [
    "A = np.array([[3, 1, 1], [1, -2, -1], [1, 1, 1]])\n",
    "print(A)\n",
    "print(np.shape(A))"
   ]
  },
  {
   "cell_type": "code",
   "execution_count": 3,
   "metadata": {},
   "outputs": [
    {
     "output_type": "stream",
     "name": "stdout",
     "text": [
      "[4 1 2]\n(3,)\n"
     ]
    }
   ],
   "source": [
    "b = np.array([4, 1, 2])\n",
    "print(b)\n",
    "print(np.shape(b))"
   ]
  },
  {
   "cell_type": "code",
   "execution_count": 4,
   "metadata": {},
   "outputs": [
    {
     "output_type": "stream",
     "name": "stdout",
     "text": [
      "[[ 5.00000000e-01 -7.40148683e-17 -5.00000000e-01]\n [ 1.00000000e+00 -1.00000000e+00 -2.00000000e+00]\n [-1.50000000e+00  1.00000000e+00  3.50000000e+00]]\n(3, 3)\n"
     ]
    }
   ],
   "source": [
    "A_inv = np.linalg.inv(A)\n",
    "print(A_inv)\n",
    "print(np.shape(A_inv))"
   ]
  },
  {
   "cell_type": "code",
   "execution_count": 5,
   "metadata": {},
   "outputs": [
    {
     "output_type": "stream",
     "name": "stdout",
     "text": [
      "[ 1. -1.  2.]\n(3,)\n"
     ]
    }
   ],
   "source": [
    "# x = np.matmul(A_inv, b)\n",
    "x = A_inv @ b\n",
    "print(x)\n",
    "print(np.shape(x))"
   ]
  },
  {
   "cell_type": "code",
   "execution_count": 8,
   "metadata": {},
   "outputs": [
    {
     "output_type": "stream",
     "name": "stdout",
     "text": [
      "(3,)\n[4. 1. 2.]\nOK\n"
     ]
    }
   ],
   "source": [
    "#bb = np.matmul(A, x)\n",
    "bb = A @ x\n",
    "print(np.shape(bb))\n",
    "print(bb)\n",
    "\n",
    "if np.linalg.norm(b - bb)< 1e-3:\n",
    "    print('OK')\n",
    "else:\n",
    "    print('something wrong')"
   ]
  },
  {
   "cell_type": "code",
   "execution_count": null,
   "metadata": {},
   "outputs": [],
   "source": []
  }
 ]
}