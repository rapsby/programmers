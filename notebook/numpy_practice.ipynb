{
 "metadata": {
  "language_info": {
   "codemirror_mode": {
    "name": "ipython",
    "version": 3
   },
   "file_extension": ".py",
   "mimetype": "text/x-python",
   "name": "python",
   "nbconvert_exporter": "python",
   "pygments_lexer": "ipython3",
   "version": "3.8.3-final"
  },
  "orig_nbformat": 2,
  "kernelspec": {
   "name": "python3",
   "display_name": "Python 3",
   "language": "python"
  }
 },
 "nbformat": 4,
 "nbformat_minor": 2,
 "cells": [
  {
   "cell_type": "code",
   "execution_count": 1,
   "metadata": {},
   "outputs": [],
   "source": [
    "import numpy as np"
   ]
  },
  {
   "cell_type": "code",
   "execution_count": 5,
   "metadata": {},
   "outputs": [
    {
     "output_type": "stream",
     "name": "stdout",
     "text": [
      "더하기 : [6 7 8]\n빼기 : [-4 -3 -2]\n곱하기 : [ 5 10 15]\n나누기 : [0.2 0.4 0.6]\n"
     ]
    }
   ],
   "source": [
    "x = np.array([1, 2, 3])\n",
    "c = 5\n",
    "\n",
    "print('더하기 : {}'.format(x + c))\n",
    "print('빼기 : {}'.format(x - c))\n",
    "print('곱하기 : {}'.format(x * c))\n",
    "print('나누기 : {}'.format(x / c))"
   ]
  },
  {
   "cell_type": "code",
   "execution_count": 17,
   "metadata": {},
   "outputs": [
    {
     "output_type": "stream",
     "name": "stdout",
     "text": [
      "더하기 : [ 3 12 25]\n빼기 : [ -1  -6 -15]\n곱하기 : [  2  27 100]\n나누기 : [0.5        0.33333333 0.25      ]\n"
     ]
    }
   ],
   "source": [
    "y = np.array([1, 3, 5])\n",
    "z = np.array([2, 9, 20])\n",
    "\n",
    "print('더하기 : {}'.format(y + z))\n",
    "print('빼기 : {}'.format(y - z))\n",
    "print('곱하기 : {}'.format(y * z))\n",
    "print('나누기 : {}'.format(y / z))"
   ]
  },
  {
   "cell_type": "code",
   "execution_count": 20,
   "metadata": {},
   "outputs": [
    {
     "output_type": "stream",
     "name": "stdout",
     "text": [
      "1\n12\n[[ 1  2  3  4]\n [ 5  6  7  8]\n [ 9 10 11 12]]\n"
     ]
    }
   ],
   "source": [
    "W = np.array([[1,2,3,4], [5,6,7,8], [9,10,11,12]])\n",
    "print(W[0,0])\n",
    "print(W[2,3])\n",
    "print(W)"
   ]
  },
  {
   "cell_type": "code",
   "execution_count": 28,
   "metadata": {},
   "outputs": [
    {
     "output_type": "stream",
     "name": "stdout",
     "text": [
      "[[2 3]\n [6 7]]\n[6 7]\n[[1 2 3 4]\n [5 6 7 8]]\n"
     ]
    }
   ],
   "source": [
    "W = np.array([[1,2,3,4], [5,6,7,8], [9,10,11,12]])\n",
    "# get 2,3 6,7\n",
    "print(W[0:2,1:3])\n",
    "print(W[1,1:3])\n",
    "print(W[0:2,])"
   ]
  },
  {
   "source": [
    "Array Broadcasting"
   ],
   "cell_type": "markdown",
   "metadata": {}
  },
  {
   "cell_type": "code",
   "execution_count": 36,
   "metadata": {},
   "outputs": [
    {
     "output_type": "stream",
     "name": "stdout",
     "text": [
      "[[0]\n [1]\n [0]]\n[[1 2 3]\n [5 6 7]\n [7 8 9]]\n"
     ]
    }
   ],
   "source": [
    "a = np.array([[1,2,3],[4,5,6],[7,8,9]])\n",
    "x = np.array([0, 1, 0])\n",
    "x = x[:, None]\n",
    "print(x)\n",
    "print(a+x)"
   ]
  },
  {
   "cell_type": "code",
   "execution_count": 39,
   "metadata": {},
   "outputs": [
    {
     "output_type": "stream",
     "name": "stdout",
     "text": [
      "[[ 0  2 -3]\n [ 0  5 -6]\n [ 0  8 -9]]\n"
     ]
    }
   ],
   "source": [
    "y = np.array([0, 1, -1])\n",
    "\n",
    "print(a * y)"
   ]
  },
  {
   "cell_type": "code",
   "execution_count": 40,
   "metadata": {},
   "outputs": [
    {
     "output_type": "stream",
     "name": "stdout",
     "text": [
      "[[ 3  1 -1]\n [ 4  2  0]\n [ 5  3  1]]\n"
     ]
    }
   ],
   "source": [
    "t = np.array([1,2,3])\n",
    "t = t[:, None]\n",
    "u = np.array([2, 0, -2])\n",
    "print(t + u)"
   ]
  },
  {
   "cell_type": "code",
   "execution_count": null,
   "metadata": {},
   "outputs": [],
   "source": []
  }
 ]
}