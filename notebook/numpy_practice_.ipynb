{
  "nbformat": 4,
  "nbformat_minor": 0,
  "metadata": {
    "language_info": {
      "codemirror_mode": {
        "name": "ipython",
        "version": 3
      },
      "file_extension": ".py",
      "mimetype": "text/x-python",
      "name": "python",
      "nbconvert_exporter": "python",
      "pygments_lexer": "ipython3",
      "version": "3.8.3-final"
    },
    "orig_nbformat": 2,
    "kernelspec": {
      "name": "python3",
      "display_name": "Python 3",
      "language": "python"
    },
    "colab": {
      "name": "numpy_practice.ipynb",
      "provenance": [],
      "include_colab_link": true
    }
  },
  "cells": [
    {
      "cell_type": "markdown",
      "metadata": {
        "id": "view-in-github",
        "colab_type": "text"
      },
      "source": [
        "<a href=\"https://colab.research.google.com/github/rapsby/programmers/blob/main/notebook/numpy_practice_.ipynb\" target=\"_parent\"><img src=\"https://colab.research.google.com/assets/colab-badge.svg\" alt=\"Open In Colab\"/></a>"
      ]
    },
    {
      "cell_type": "code",
      "metadata": {
        "id": "fZuEtRvXvYWX"
      },
      "source": [
        "import numpy as np"
      ],
      "execution_count": null,
      "outputs": []
    },
    {
      "cell_type": "code",
      "metadata": {
        "id": "GjlevFYBvYWb",
        "outputId": "5a7bb817-ab84-405b-994e-c6dd86b63a87"
      },
      "source": [
        "x = np.array([1, 2, 3])\n",
        "c = 5\n",
        "\n",
        "print('더하기 : {}'.format(x + c))\n",
        "print('빼기 : {}'.format(x - c))\n",
        "print('곱하기 : {}'.format(x * c))\n",
        "print('나누기 : {}'.format(x / c))"
      ],
      "execution_count": null,
      "outputs": [
        {
          "output_type": "stream",
          "text": [
            "더하기 : [6 7 8]\n",
            "빼기 : [-4 -3 -2]\n",
            "곱하기 : [ 5 10 15]\n",
            "나누기 : [0.2 0.4 0.6]\n"
          ],
          "name": "stdout"
        }
      ]
    },
    {
      "cell_type": "code",
      "metadata": {
        "id": "cYBpBzugvYWc",
        "outputId": "226bf8bb-29af-415f-c092-7a418b153d43"
      },
      "source": [
        "y = np.array([1, 3, 5])\n",
        "z = np.array([2, 9, 20])\n",
        "\n",
        "print('더하기 : {}'.format(y + z))\n",
        "print('빼기 : {}'.format(y - z))\n",
        "print('곱하기 : {}'.format(y * z))\n",
        "print('나누기 : {}'.format(y / z))"
      ],
      "execution_count": null,
      "outputs": [
        {
          "output_type": "stream",
          "text": [
            "더하기 : [ 3 12 25]\n",
            "빼기 : [ -1  -6 -15]\n",
            "곱하기 : [  2  27 100]\n",
            "나누기 : [0.5        0.33333333 0.25      ]\n"
          ],
          "name": "stdout"
        }
      ]
    },
    {
      "cell_type": "code",
      "metadata": {
        "id": "w3LidsjTvYWc",
        "outputId": "e53a508c-6a7f-47bc-c461-b2d19cd47790"
      },
      "source": [
        "W = np.array([[1,2,3,4], [5,6,7,8], [9,10,11,12]])\n",
        "print(W[0,0])\n",
        "print(W[2,3])\n",
        "print(W)"
      ],
      "execution_count": null,
      "outputs": [
        {
          "output_type": "stream",
          "text": [
            "1\n",
            "12\n",
            "[[ 1  2  3  4]\n",
            " [ 5  6  7  8]\n",
            " [ 9 10 11 12]]\n"
          ],
          "name": "stdout"
        }
      ]
    },
    {
      "cell_type": "code",
      "metadata": {
        "id": "YhcUdA8PvYWc",
        "outputId": "92447826-cba7-4be4-9317-8c5b7fa30710"
      },
      "source": [
        "W = np.array([[1,2,3,4], [5,6,7,8], [9,10,11,12]])\n",
        "# get 2,3 6,7\n",
        "print(W[0:2,1:3])\n",
        "print(W[1,1:3])\n",
        "print(W[0:2,])"
      ],
      "execution_count": null,
      "outputs": [
        {
          "output_type": "stream",
          "text": [
            "[[2 3]\n",
            " [6 7]]\n",
            "[6 7]\n",
            "[[1 2 3 4]\n",
            " [5 6 7 8]]\n"
          ],
          "name": "stdout"
        }
      ]
    },
    {
      "cell_type": "markdown",
      "metadata": {
        "id": "4tuE28lCvYWd"
      },
      "source": [
        "Array Broadcasting"
      ]
    },
    {
      "cell_type": "code",
      "metadata": {
        "id": "zwMqwiCOvYWd",
        "outputId": "3c02e9ff-81d4-47b7-a649-4f396d075fe0"
      },
      "source": [
        "a = np.array([[1,2,3],[4,5,6],[7,8,9]])\n",
        "x = np.array([0, 1, 0])\n",
        "x = x[:, None]\n",
        "print(x)\n",
        "print(a+x)"
      ],
      "execution_count": null,
      "outputs": [
        {
          "output_type": "stream",
          "text": [
            "[[0]\n",
            " [1]\n",
            " [0]]\n",
            "[[1 2 3]\n",
            " [5 6 7]\n",
            " [7 8 9]]\n"
          ],
          "name": "stdout"
        }
      ]
    },
    {
      "cell_type": "code",
      "metadata": {
        "id": "9elpxM9ovYWd",
        "outputId": "b77e9d3e-1b77-4d19-ac04-bcb89222689b"
      },
      "source": [
        "y = np.array([0, 1, -1])\n",
        "\n",
        "print(a * y)"
      ],
      "execution_count": null,
      "outputs": [
        {
          "output_type": "stream",
          "text": [
            "[[ 0  2 -3]\n",
            " [ 0  5 -6]\n",
            " [ 0  8 -9]]\n"
          ],
          "name": "stdout"
        }
      ]
    },
    {
      "cell_type": "code",
      "metadata": {
        "id": "QOfrh5vkvYWe",
        "outputId": "969a0ce7-f74a-405c-a671-18ce1b39a58b"
      },
      "source": [
        "t = np.array([1,2,3])\n",
        "t = t[:, None]\n",
        "u = np.array([2, 0, -2])\n",
        "print(t)\n",
        "print(t + u)"
      ],
      "execution_count": null,
      "outputs": [
        {
          "output_type": "stream",
          "text": [
            "[[1]\n",
            " [2]\n",
            " [3]]\n",
            "[[ 3  1 -1]\n",
            " [ 4  2  0]\n",
            " [ 5  3  1]]\n"
          ],
          "name": "stdout"
        }
      ]
    },
    {
      "cell_type": "code",
      "metadata": {
        "id": "m5qR87DMvYWe",
        "outputId": "dcb99c91-9b5d-4037-d2ad-bb302c8ae075"
      },
      "source": [
        "np.zeros([3,3,3])"
      ],
      "execution_count": null,
      "outputs": [
        {
          "output_type": "execute_result",
          "data": {
            "text/plain": [
              "array([[[0., 0., 0.],\n",
              "        [0., 0., 0.],\n",
              "        [0., 0., 0.]],\n",
              "\n",
              "       [[0., 0., 0.],\n",
              "        [0., 0., 0.],\n",
              "        [0., 0., 0.]],\n",
              "\n",
              "       [[0., 0., 0.],\n",
              "        [0., 0., 0.],\n",
              "        [0., 0., 0.]]])"
            ]
          },
          "metadata": {
            "tags": []
          },
          "execution_count": 10
        }
      ]
    },
    {
      "cell_type": "code",
      "metadata": {
        "id": "b7pZlXShvYWe",
        "outputId": "9fe50627-aa7f-4539-ccbd-f5074a0851ff"
      },
      "source": [
        "np.ones((3,3))"
      ],
      "execution_count": null,
      "outputs": [
        {
          "output_type": "execute_result",
          "data": {
            "text/plain": [
              "array([[1., 1., 1.],\n",
              "       [1., 1., 1.],\n",
              "       [1., 1., 1.]])"
            ]
          },
          "metadata": {
            "tags": []
          },
          "execution_count": 11
        }
      ]
    },
    {
      "cell_type": "code",
      "metadata": {
        "id": "r-6yOsWrvYWf",
        "outputId": "76fe87df-9b87-4f63-e97b-d04f70e30d8f"
      },
      "source": [
        "np.diag([2,4])"
      ],
      "execution_count": null,
      "outputs": [
        {
          "output_type": "execute_result",
          "data": {
            "text/plain": [
              "array([[2, 0],\n",
              "       [0, 4]])"
            ]
          },
          "metadata": {
            "tags": []
          },
          "execution_count": 12
        }
      ]
    },
    {
      "cell_type": "code",
      "metadata": {
        "id": "IkBsU0asvYWf",
        "outputId": "eccce4f1-7588-4881-8e77-9cbc162c82be"
      },
      "source": [
        "np.diag((1,3,5))"
      ],
      "execution_count": null,
      "outputs": [
        {
          "output_type": "execute_result",
          "data": {
            "text/plain": [
              "array([[1, 0, 0],\n",
              "       [0, 3, 0],\n",
              "       [0, 0, 5]])"
            ]
          },
          "metadata": {
            "tags": []
          },
          "execution_count": 13
        }
      ]
    },
    {
      "cell_type": "code",
      "metadata": {
        "id": "eVKIianmvYWf",
        "outputId": "e04d1c79-d4e8-403a-8af9-bd4a49e48529"
      },
      "source": [
        "#항등행렬\n",
        "np.eye(2, dtype=int)"
      ],
      "execution_count": null,
      "outputs": [
        {
          "output_type": "execute_result",
          "data": {
            "text/plain": [
              "array([[1, 0],\n",
              "       [0, 1]])"
            ]
          },
          "metadata": {
            "tags": []
          },
          "execution_count": 14
        }
      ]
    },
    {
      "cell_type": "code",
      "metadata": {
        "id": "DfOI_y2BvYWf",
        "outputId": "a6712264-6a45-450d-f245-013af499240b"
      },
      "source": [
        "#행렬곱\n",
        "mat_1 = np.array([[1,4],[2,3]])\n",
        "mat_2 = np.array([[7,9],[0,6]])\n",
        "\n",
        "print(mat_1.dot((mat_2)))\n",
        "print(mat_1 @ mat_2)"
      ],
      "execution_count": null,
      "outputs": [
        {
          "output_type": "stream",
          "text": [
            "[[ 7 33]\n",
            " [14 36]]\n",
            "[[ 7 33]\n",
            " [14 36]]\n"
          ],
          "name": "stdout"
        }
      ]
    },
    {
      "cell_type": "code",
      "metadata": {
        "id": "kZaiDJh9vYWg",
        "outputId": "c5a77756-5181-4af7-b79a-8a2bb4c762b4"
      },
      "source": [
        "# trace -> main diagonal의 합\n",
        "arr = np.array([[1,2,3],[4,5,6],[7,8,9]])\n",
        "print(arr)\n",
        "arr.trace()\n",
        "np.eye(2, dtype=int).trace()"
      ],
      "execution_count": null,
      "outputs": [
        {
          "output_type": "stream",
          "text": [
            "[[1 2 3]\n",
            " [4 5 6]\n",
            " [7 8 9]]\n"
          ],
          "name": "stdout"
        },
        {
          "output_type": "execute_result",
          "data": {
            "text/plain": [
              "2"
            ]
          },
          "metadata": {
            "tags": []
          },
          "execution_count": 16
        }
      ]
    },
    {
      "cell_type": "markdown",
      "metadata": {
        "id": "wOxBAmGfvYWg"
      },
      "source": [
        "# Linear Algebra\n",
        "행렬식 (determinant)\n",
        "\n",
        "linag = Linear Algebra"
      ]
    },
    {
      "cell_type": "code",
      "metadata": {
        "id": "6qAHm6zLvYWg",
        "outputId": "978b6037-c3c6-445b-97b1-34dcb6ada914"
      },
      "source": [
        "arr_2 = np.array([[2,3],[1,6]])\n",
        "print(arr_2)\n",
        "print(np.linalg.det(arr_2))"
      ],
      "execution_count": null,
      "outputs": [
        {
          "output_type": "stream",
          "text": [
            "[[2 3]\n",
            " [1 6]]\n",
            "9.000000000000002\n"
          ],
          "name": "stdout"
        }
      ]
    },
    {
      "cell_type": "code",
      "metadata": {
        "id": "6Z-_OUfrvYWg",
        "outputId": "34f513bf-900f-4361-c489-f05b231f07ae"
      },
      "source": [
        "arr_3 = np.array([[1,4,7],[2,5,8],[3,6,9]])\n",
        "print(arr_3)\n",
        "print(np.linalg.det(arr_3))"
      ],
      "execution_count": null,
      "outputs": [
        {
          "output_type": "stream",
          "text": [
            "[[1 4 7]\n",
            " [2 5 8]\n",
            " [3 6 9]]\n",
            "0.0\n"
          ],
          "name": "stdout"
        }
      ]
    },
    {
      "cell_type": "markdown",
      "metadata": {
        "id": "DrawQETovYWh"
      },
      "source": [
        "# 역행렬\n",
        "행렬 A에 대해 AB = BA = I를 만족하는 행렬 B=A^-I"
      ]
    },
    {
      "cell_type": "code",
      "metadata": {
        "id": "RI00zMlQvYWh",
        "outputId": "1605e6c0-c758-43c9-8485-1d83f4f85969"
      },
      "source": [
        "mat = np.array([[1,4],[2,3]])\n",
        "print(mat)\n",
        "mat_inv = np.linalg.inv(mat)\n",
        "print(mat_inv)\n",
        "print(mat@mat_inv)"
      ],
      "execution_count": null,
      "outputs": [
        {
          "output_type": "stream",
          "text": [
            "[[1 4]\n",
            " [2 3]]\n",
            "[[-0.6  0.8]\n",
            " [ 0.4 -0.2]]\n",
            "[[1. 0.]\n",
            " [0. 1.]]\n"
          ],
          "name": "stdout"
        }
      ]
    },
    {
      "cell_type": "markdown",
      "metadata": {
        "id": "MSA08nFrvYWh"
      },
      "source": [
        "# 고유값과 고유벡터(eigenvalue and eigenvector)\n",
        "정방행렬 A에 대해 Ax=$\\lambda x$를 만족하는 상수 $\\lambda$와 이에 대응하는 벡터"
      ]
    },
    {
      "cell_type": "code",
      "metadata": {
        "id": "FN2WSTVbvYWh",
        "outputId": "d5835fde-db61-4f10-a2ee-804df49d063c"
      },
      "source": [
        "mat = np.array([[2,0,-2],[1,1,-2],[0,0,1]])\n",
        "print(mat)\n",
        "np.linalg.eig(mat) # return lambda, eigenvector"
      ],
      "execution_count": null,
      "outputs": [
        {
          "output_type": "stream",
          "text": [
            "[[ 2  0 -2]\n",
            " [ 1  1 -2]\n",
            " [ 0  0  1]]\n"
          ],
          "name": "stdout"
        },
        {
          "output_type": "execute_result",
          "data": {
            "text/plain": [
              "(array([1., 2., 1.]),\n",
              " array([[0.        , 0.70710678, 0.89442719],\n",
              "        [1.        , 0.70710678, 0.        ],\n",
              "        [0.        , 0.        , 0.4472136 ]]))"
            ]
          },
          "metadata": {
            "tags": []
          },
          "execution_count": 27
        }
      ]
    },
    {
      "cell_type": "markdown",
      "metadata": {
        "id": "jxOL0qDwvYWh"
      },
      "source": [
        "Validation"
      ]
    },
    {
      "cell_type": "code",
      "metadata": {
        "id": "l5tyFx0YvYWi",
        "outputId": "6b6345d7-2808-44e9-dc2a-f0fb50b9a9db"
      },
      "source": [
        "eig_val, eig_vec = np.linalg.eig(mat)\n",
        "eig_val"
      ],
      "execution_count": null,
      "outputs": [
        {
          "output_type": "execute_result",
          "data": {
            "text/plain": [
              "array([1., 2., 1.])"
            ]
          },
          "metadata": {
            "tags": []
          },
          "execution_count": 28
        }
      ]
    },
    {
      "cell_type": "code",
      "metadata": {
        "id": "tH7vs7y9vYWi",
        "outputId": "313e00cd-11e8-4732-f1ec-a7c52669529e"
      },
      "source": [
        "eig_vec"
      ],
      "execution_count": null,
      "outputs": [
        {
          "output_type": "execute_result",
          "data": {
            "text/plain": [
              "array([[0.        , 0.70710678, 0.89442719],\n",
              "       [1.        , 0.70710678, 0.        ],\n",
              "       [0.        , 0.        , 0.4472136 ]])"
            ]
          },
          "metadata": {
            "tags": []
          },
          "execution_count": 29
        }
      ]
    },
    {
      "cell_type": "code",
      "metadata": {
        "id": "6XHJjBHgvYWi",
        "outputId": "0f265664-c351-4379-da05-9b23500b6ef4"
      },
      "source": [
        "mat @ eig_vec[:,0]"
      ],
      "execution_count": null,
      "outputs": [
        {
          "output_type": "execute_result",
          "data": {
            "text/plain": [
              "array([0., 1., 0.])"
            ]
          },
          "metadata": {
            "tags": []
          },
          "execution_count": 31
        }
      ]
    },
    {
      "cell_type": "code",
      "metadata": {
        "id": "_X9NUXnbvYWi",
        "outputId": "c9065b75-cbc8-4bf6-ab59-9d7bf998d4e1"
      },
      "source": [
        "eig_val[0] * eig_vec[:, 0]"
      ],
      "execution_count": null,
      "outputs": [
        {
          "output_type": "execute_result",
          "data": {
            "text/plain": [
              "array([0., 1., 0.])"
            ]
          },
          "metadata": {
            "tags": []
          },
          "execution_count": 32
        }
      ]
    },
    {
      "cell_type": "code",
      "metadata": {
        "id": "n_oRESiIvYWj"
      },
      "source": [
        ""
      ],
      "execution_count": null,
      "outputs": []
    }
  ]
}